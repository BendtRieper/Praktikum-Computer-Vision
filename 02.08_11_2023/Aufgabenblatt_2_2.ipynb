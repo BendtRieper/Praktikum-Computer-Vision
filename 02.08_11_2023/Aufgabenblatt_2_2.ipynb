{
 "cells": [
  {
   "cell_type": "code",
   "execution_count": 3,
   "metadata": {
    "colab": {
     "base_uri": "https://localhost:8080/"
    },
    "id": "c5N0Y_i0dUon",
    "outputId": "57996924-8ecd-4a7a-8901-ade718d87337",
    "scrolled": true
   },
   "outputs": [
    {
     "data": {
      "text/plain": [
       "0.0012760416666708352"
      ]
     },
     "execution_count": 3,
     "metadata": {},
     "output_type": "execute_result"
    }
   ],
   "source": [
    "import math\n",
    "import matplotlib.pyplot as plt\n",
    "from skimage.io import imread\n",
    "import numpy as np\n",
    "img1 = imread('./testbild1.png')\n",
    "img2 = imread('./testbild2.png')\n",
    "img3 = imread('./testbild3.png')\n",
    "\n",
    "def compareMean(img1, img2):\n",
    "  if np.mean(img1) > np.mean(img2):\n",
    "    meanDifferenz = np.mean(img1) - np.mean(img2)\n",
    "  else:\n",
    "    meanDifferenz = np.mean(img2) - np.mean(img1)\n",
    "  return meanDifferenz\n",
    "compareMean(img3, img1)"
   ]
  },
  {
   "cell_type": "markdown",
   "metadata": {
    "id": "Slsa1ecTtwHk"
   },
   "source": [
    "# Aufgabe 1 — Bilder vergleiche"
   ]
  },
  {
   "cell_type": "code",
   "execution_count": 4,
   "metadata": {
    "colab": {
     "base_uri": "https://localhost:8080/"
    },
    "id": "an5wYvVXgk95",
    "outputId": "8cea45b9-ef06-4280-85d1-ea841ff7f5a5"
   },
   "outputs": [
    {
     "name": "stdout",
     "output_type": "stream",
     "text": [
      "127.0988671875\n",
      "94.9578125\n",
      "127.09759114583333\n"
     ]
    }
   ],
   "source": [
    "print(np.mean(img1))\n",
    "print(np.mean(img2))\n",
    "print(np.mean(img3))"
   ]
  },
  {
   "cell_type": "markdown",
   "metadata": {
    "id": "9NY8Yi9Gt0pQ"
   },
   "source": [
    "nach diesen Daten sind sich Bild 1 und Bild 3 am ähnlichsten"
   ]
  },
  {
   "cell_type": "markdown",
   "metadata": {
    "id": "42kcgMgNuYLE"
   },
   "source": [
    "# Aufgabe 2 — Histogrammvergleich"
   ]
  },
  {
   "cell_type": "code",
   "execution_count": 5,
   "metadata": {
    "id": "IYeAFfh1g2Dn"
   },
   "outputs": [],
   "source": [
    "def giveHistogram(img):\n",
    "  hist = np.histogram(img, bins = 256, range = (0,256))\n",
    "  return hist[0]\n",
    "#giveHistogram(img1)"
   ]
  },
  {
   "cell_type": "markdown",
   "metadata": {
    "id": "nGcmMs-Eu-ug"
   },
   "source": [
    "Histogramme erstellen"
   ]
  },
  {
   "cell_type": "code",
   "execution_count": 6,
   "metadata": {
    "id": "dv9Jd-6gnMj5"
   },
   "outputs": [],
   "source": [
    "\n",
    "h1 = giveHistogram(img1)\n",
    "h2 = giveHistogram(img2)\n",
    "h3 = giveHistogram(img3)\n",
    "\n",
    "\n",
    "\n"
   ]
  },
  {
   "cell_type": "markdown",
   "metadata": {
    "id": "JohyFS9FvKxY"
   },
   "source": [
    "Funktion zum Berechnen der Differenz"
   ]
  },
  {
   "cell_type": "code",
   "execution_count": 7,
   "metadata": {
    "id": "gAQ5J4ZbnvdL"
   },
   "outputs": [],
   "source": [
    "def histDifferenz(histo1,histo2):\n",
    "  return histo1 - histo2"
   ]
  },
  {
   "cell_type": "markdown",
   "metadata": {
    "id": "TnyPpqrKvQc1"
   },
   "source": [
    "Alle 3 Histogramme miteinander vergleichen"
   ]
  },
  {
   "cell_type": "code",
   "execution_count": 8,
   "metadata": {
    "colab": {
     "base_uri": "https://localhost:8080/"
    },
    "id": "bVsOrp_tpD8A",
    "outputId": "994a2970-d86f-47cc-d84c-bd39ae745d8e"
   },
   "outputs": [
    {
     "name": "stdout",
     "output_type": "stream",
     "text": [
      "47262.50839724866\n",
      "36619.00471066902\n",
      "19677.262665320093\n"
     ]
    }
   ],
   "source": [
    "def Distanz(histo1,histo2):\n",
    "  quadSumme = 0\n",
    "  Diff = histDifferenz(histo1,histo2)\n",
    "  for x in Diff:\n",
    "    quadSumme += x**2\n",
    "  return math.sqrt(quadSumme)\n",
    "\n",
    "print(Distanz(h1,h3))\n",
    "print(Distanz(h2,h3))\n",
    "print(Distanz(h1,h2))\n"
   ]
  },
  {
   "cell_type": "markdown",
   "metadata": {
    "id": "EmYpxjXnuzor"
   },
   "source": [
    "Nach dem Histogrammvergleich sind sich Bild 1 und Bild 2 am ähnlichsten\n"
   ]
  }
 ],
 "metadata": {
  "colab": {
   "provenance": []
  },
  "kernelspec": {
   "display_name": "Python 3 (ipykernel)",
   "language": "python",
   "name": "python3"
  },
  "language_info": {
   "codemirror_mode": {
    "name": "ipython",
    "version": 3
   },
   "file_extension": ".py",
   "mimetype": "text/x-python",
   "name": "python",
   "nbconvert_exporter": "python",
   "pygments_lexer": "ipython3",
   "version": "3.11.6"
  }
 },
 "nbformat": 4,
 "nbformat_minor": 1
}
