{
 "cells": [
  {
   "cell_type": "code",
   "execution_count": 3,
   "id": "6a99e90d-a6fd-4951-87ab-78353814f3c2",
   "metadata": {},
   "outputs": [],
   "source": [
    "import glob\n",
    "from skimage.io import imread\n",
    "from skimage import color, img_as_ubyte\n",
    "\n",
    "import numpy as np\n",
    "import tensorflow as tf\n",
    "from tensorflow.keras.utils import to_categorical\n",
    "from tensorflow.keras.models import Sequential\n",
    "from tensorflow.keras.layers import Dense\n",
    "from sklearn.neighbors import KNeighborsClassifier\n",
    "from sklearn.metrics import accuracy_score\n",
    "\n",
    "from tensorflow.keras.layers import MaxPooling2D\n",
    "from tensorflow.keras.layers import Conv2D\n",
    "from tensorflow.keras.layers import Flatten\n",
    "from tensorflow.keras.callbacks import EarlyStopping\n",
    "\n"
   ]
  },
  {
   "cell_type": "code",
   "execution_count": 4,
   "id": "88792a11-2346-4c21-9c6c-5eddfbb7a85b",
   "metadata": {},
   "outputs": [],
   "source": [
    "#CIFAR-10 Daten herunterladen\n",
    "from tensorflow.keras.datasets.cifar10 import load_data\n",
    "(x_train, y_train), (x_test, y_test) = load_data()\n",
    "x_train = np.asarray(x_train).astype('float32')\n",
    "x_test = np.asarray(x_test).astype('float32')\n",
    "\n",
    "#tf.cast(x_train, tf.float32)\n",
    "#tf.cast(x_test, tf.float32)\n",
    "x_train = x_train/255.0\n",
    "x_test = x_test/255.0"
   ]
  },
  {
   "cell_type": "code",
   "execution_count": 2,
   "id": "7b69c671-9af6-44ec-8c21-5f2589ff353c",
   "metadata": {},
   "outputs": [
    {
     "name": "stderr",
     "output_type": "stream",
     "text": [
      "2023-12-06 16:34:03.023942: I tensorflow/compiler/xla/stream_executor/cuda/cuda_gpu_executor.cc:996] successful NUMA node read from SysFS had negative value (-1), but there must be at least one NUMA node, so returning NUMA node zero. See more at https://github.com/torvalds/linux/blob/v6.0/Documentation/ABI/testing/sysfs-bus-pci#L344-L355\n",
      "2023-12-06 16:34:03.066413: I tensorflow/compiler/xla/stream_executor/cuda/cuda_gpu_executor.cc:996] successful NUMA node read from SysFS had negative value (-1), but there must be at least one NUMA node, so returning NUMA node zero. See more at https://github.com/torvalds/linux/blob/v6.0/Documentation/ABI/testing/sysfs-bus-pci#L344-L355\n",
      "2023-12-06 16:34:03.066592: I tensorflow/compiler/xla/stream_executor/cuda/cuda_gpu_executor.cc:996] successful NUMA node read from SysFS had negative value (-1), but there must be at least one NUMA node, so returning NUMA node zero. See more at https://github.com/torvalds/linux/blob/v6.0/Documentation/ABI/testing/sysfs-bus-pci#L344-L355\n",
      "2023-12-06 16:34:03.068552: I tensorflow/compiler/xla/stream_executor/cuda/cuda_gpu_executor.cc:996] successful NUMA node read from SysFS had negative value (-1), but there must be at least one NUMA node, so returning NUMA node zero. See more at https://github.com/torvalds/linux/blob/v6.0/Documentation/ABI/testing/sysfs-bus-pci#L344-L355\n",
      "2023-12-06 16:34:03.068752: I tensorflow/compiler/xla/stream_executor/cuda/cuda_gpu_executor.cc:996] successful NUMA node read from SysFS had negative value (-1), but there must be at least one NUMA node, so returning NUMA node zero. See more at https://github.com/torvalds/linux/blob/v6.0/Documentation/ABI/testing/sysfs-bus-pci#L344-L355\n",
      "2023-12-06 16:34:03.068876: I tensorflow/compiler/xla/stream_executor/cuda/cuda_gpu_executor.cc:996] successful NUMA node read from SysFS had negative value (-1), but there must be at least one NUMA node, so returning NUMA node zero. See more at https://github.com/torvalds/linux/blob/v6.0/Documentation/ABI/testing/sysfs-bus-pci#L344-L355\n",
      "2023-12-06 16:34:03.115487: I tensorflow/compiler/xla/stream_executor/cuda/cuda_gpu_executor.cc:996] successful NUMA node read from SysFS had negative value (-1), but there must be at least one NUMA node, so returning NUMA node zero. See more at https://github.com/torvalds/linux/blob/v6.0/Documentation/ABI/testing/sysfs-bus-pci#L344-L355\n",
      "2023-12-06 16:34:03.115666: I tensorflow/compiler/xla/stream_executor/cuda/cuda_gpu_executor.cc:996] successful NUMA node read from SysFS had negative value (-1), but there must be at least one NUMA node, so returning NUMA node zero. See more at https://github.com/torvalds/linux/blob/v6.0/Documentation/ABI/testing/sysfs-bus-pci#L344-L355\n",
      "2023-12-06 16:34:03.115785: I tensorflow/compiler/xla/stream_executor/cuda/cuda_gpu_executor.cc:996] successful NUMA node read from SysFS had negative value (-1), but there must be at least one NUMA node, so returning NUMA node zero. See more at https://github.com/torvalds/linux/blob/v6.0/Documentation/ABI/testing/sysfs-bus-pci#L344-L355\n",
      "2023-12-06 16:34:03.115871: I tensorflow/core/common_runtime/gpu/gpu_device.cc:1635] Created device /job:localhost/replica:0/task:0/device:GPU:0 with 3117 MB memory:  -> device: 0, name: NVIDIA GeForce GTX 1050 Ti, pci bus id: 0000:01:00.0, compute capability: 6.1\n"
     ]
    },
    {
     "name": "stdout",
     "output_type": "stream",
     "text": [
      "Epoch 1/20\n"
     ]
    },
    {
     "name": "stderr",
     "output_type": "stream",
     "text": [
      "2023-12-06 16:34:04.484819: I tensorflow/compiler/xla/stream_executor/cuda/cuda_dnn.cc:424] Loaded cuDNN version 8906\n",
      "2023-12-06 16:34:04.707792: I tensorflow/compiler/xla/service/service.cc:169] XLA service 0x7fab0eceb0a0 initialized for platform CUDA (this does not guarantee that XLA will be used). Devices:\n",
      "2023-12-06 16:34:04.707816: I tensorflow/compiler/xla/service/service.cc:177]   StreamExecutor device (0): NVIDIA GeForce GTX 1050 Ti, Compute Capability 6.1\n",
      "2023-12-06 16:34:04.711476: I tensorflow/compiler/mlir/tensorflow/utils/dump_mlir_util.cc:269] disabling MLIR crash reproducer, set env var `MLIR_CRASH_REPRODUCER_DIRECTORY` to enable.\n",
      "2023-12-06 16:34:04.815160: I ./tensorflow/compiler/jit/device_compiler.h:180] Compiled cluster using XLA!  This line is logged at most once for the lifetime of the process.\n"
     ]
    },
    {
     "name": "stdout",
     "output_type": "stream",
     "text": [
      "1250/1250 [==============================] - 12s 8ms/step - loss: 1.4563 - accuracy: 0.4815 - val_loss: 1.1742 - val_accuracy: 0.5826\n",
      "Epoch 2/20\n",
      "1250/1250 [==============================] - 10s 8ms/step - loss: 0.9864 - accuracy: 0.6542 - val_loss: 1.0420 - val_accuracy: 0.6366\n",
      "Epoch 3/20\n",
      "1250/1250 [==============================] - 10s 8ms/step - loss: 0.6959 - accuracy: 0.7577 - val_loss: 1.0924 - val_accuracy: 0.6346\n",
      "Epoch 4/20\n",
      "1250/1250 [==============================] - 10s 8ms/step - loss: 0.4059 - accuracy: 0.8606 - val_loss: 1.2555 - val_accuracy: 0.6311\n",
      "Epoch 5/20\n",
      "1250/1250 [==============================] - 10s 8ms/step - loss: 0.1986 - accuracy: 0.9351 - val_loss: 1.5773 - val_accuracy: 0.6246\n"
     ]
    },
    {
     "data": {
      "text/plain": [
       "<keras.callbacks.History at 0x7fade145ccd0>"
      ]
     },
     "execution_count": 2,
     "metadata": {},
     "output_type": "execute_result"
    }
   ],
   "source": [
    "from tensorflow.keras.layers import Conv2D\n",
    "from tensorflow.keras.layers import Flatten\n",
    "from tensorflow.keras.callbacks import EarlyStopping\n",
    "\n",
    "es=EarlyStopping(patience=3)\n",
    "model = Sequential()\n",
    "model.add(Conv2D(32, (3, 3), activation='relu',padding='same', input_shape=(32,32,3)))\n",
    "model.add(Conv2D(32, (3, 3), activation='relu',padding='same')) #32 Filter je 3x3\n",
    "model.add(Flatten()) \n",
    "model.add(Dense(256, activation='relu')) \n",
    "model.add(Dense(10, activation='softmax')) #wie auch letzte Woche brauchen wir 10 Neuronen da wir in 10 klassen sortieren\n",
    "model.compile(optimizer='adam', loss='sparse_categorical_crossentropy', metrics=['accuracy'])\n",
    "model.fit(x_train, y_train, batch_size=32, epochs=20, validation_split = 0.2, callbacks=[es])"
   ]
  },
  {
   "cell_type": "code",
   "execution_count": 7,
   "id": "3ee46695-dc5e-4308-b4ad-96e9eb7d3222",
   "metadata": {},
   "outputs": [
    {
     "name": "stdout",
     "output_type": "stream",
     "text": [
      "Epoch 1/20\n",
      "1250/1250 [==============================] - 11s 8ms/step - loss: 1.4856 - accuracy: 0.4676 - val_loss: 1.2000 - val_accuracy: 0.5774\n",
      "Epoch 2/20\n",
      "1250/1250 [==============================] - 10s 8ms/step - loss: 1.0166 - accuracy: 0.6409 - val_loss: 1.0462 - val_accuracy: 0.6349\n",
      "Epoch 3/20\n",
      "1250/1250 [==============================] - 10s 8ms/step - loss: 0.7238 - accuracy: 0.7440 - val_loss: 1.1438 - val_accuracy: 0.6235\n",
      "Epoch 4/20\n",
      "1250/1250 [==============================] - 10s 8ms/step - loss: 0.4477 - accuracy: 0.8447 - val_loss: 1.2041 - val_accuracy: 0.6419\n",
      "Epoch 5/20\n",
      "1250/1250 [==============================] - 10s 8ms/step - loss: 0.2237 - accuracy: 0.9251 - val_loss: 1.5492 - val_accuracy: 0.6322\n",
      "Epoch 6/20\n",
      "1250/1250 [==============================] - 10s 8ms/step - loss: 0.1230 - accuracy: 0.9602 - val_loss: 1.8404 - val_accuracy: 0.6351\n",
      "Epoch 7/20\n",
      "1250/1250 [==============================] - 10s 8ms/step - loss: 0.0925 - accuracy: 0.9698 - val_loss: 2.1537 - val_accuracy: 0.6246\n",
      "Epoch 8/20\n",
      "1250/1250 [==============================] - 10s 8ms/step - loss: 0.0732 - accuracy: 0.9767 - val_loss: 2.3680 - val_accuracy: 0.6327\n",
      "Epoch 9/20\n",
      "1250/1250 [==============================] - 10s 8ms/step - loss: 0.0607 - accuracy: 0.9798 - val_loss: 2.7188 - val_accuracy: 0.6189\n",
      "Epoch 10/20\n",
      "1250/1250 [==============================] - 10s 8ms/step - loss: 0.0615 - accuracy: 0.9798 - val_loss: 2.8481 - val_accuracy: 0.6185\n",
      "Epoch 11/20\n",
      "1250/1250 [==============================] - 10s 8ms/step - loss: 0.0556 - accuracy: 0.9821 - val_loss: 2.9091 - val_accuracy: 0.6164\n",
      "Epoch 12/20\n",
      "1250/1250 [==============================] - 10s 8ms/step - loss: 0.0458 - accuracy: 0.9850 - val_loss: 3.0825 - val_accuracy: 0.6221\n",
      "Epoch 13/20\n",
      "1250/1250 [==============================] - 10s 8ms/step - loss: 0.0484 - accuracy: 0.9841 - val_loss: 3.1005 - val_accuracy: 0.6214\n",
      "Epoch 14/20\n",
      "1250/1250 [==============================] - 10s 8ms/step - loss: 0.0475 - accuracy: 0.9843 - val_loss: 3.3345 - val_accuracy: 0.6221\n",
      "Epoch 15/20\n",
      "1250/1250 [==============================] - 10s 8ms/step - loss: 0.0444 - accuracy: 0.9857 - val_loss: 3.2871 - val_accuracy: 0.6222\n",
      "Epoch 16/20\n",
      "1250/1250 [==============================] - 10s 8ms/step - loss: 0.0355 - accuracy: 0.9884 - val_loss: 3.3991 - val_accuracy: 0.6238\n",
      "Epoch 17/20\n",
      "1250/1250 [==============================] - 10s 8ms/step - loss: 0.0391 - accuracy: 0.9880 - val_loss: 3.3955 - val_accuracy: 0.6218\n",
      "Epoch 18/20\n",
      "1250/1250 [==============================] - 10s 8ms/step - loss: 0.0395 - accuracy: 0.9875 - val_loss: 3.7014 - val_accuracy: 0.6154\n",
      "Epoch 19/20\n",
      "1250/1250 [==============================] - 10s 8ms/step - loss: 0.0317 - accuracy: 0.9900 - val_loss: 3.9074 - val_accuracy: 0.6139\n",
      "Epoch 20/20\n",
      "1250/1250 [==============================] - 10s 8ms/step - loss: 0.0302 - accuracy: 0.9903 - val_loss: 3.9911 - val_accuracy: 0.6208\n"
     ]
    },
    {
     "data": {
      "text/plain": [
       "<keras.callbacks.History at 0x7efc0cff9410>"
      ]
     },
     "execution_count": 7,
     "metadata": {},
     "output_type": "execute_result"
    }
   ],
   "source": [
    "\n",
    "model = Sequential()\n",
    "model.add(Conv2D(32, (3, 3), activation='relu',padding='same', input_shape=(32,32,3)))\n",
    "model.add(Conv2D(32, (3, 3), activation='relu',padding='same')) #32 Filter je 3x3\n",
    "model.add(Flatten()) \n",
    "model.add(Dense(256, activation='relu')) \n",
    "model.add(Dense(10, activation='softmax')) #wie auch letzte Woche brauchen wir 10 Neuronen da wir in 10 klassen sortieren\n",
    "model.compile(optimizer='adam', loss='sparse_categorical_crossentropy', metrics=['accuracy'])\n",
    "model.fit(x_train, y_train, batch_size=32, epochs=20, validation_split = 0.2)"
   ]
  },
  {
   "cell_type": "code",
   "execution_count": 8,
   "id": "1be6c891-ade3-4990-b79b-b54e9c1d315a",
   "metadata": {},
   "outputs": [
    {
     "name": "stdout",
     "output_type": "stream",
     "text": [
      "Epoch 1/20\n",
      "1250/1250 [==============================] - 13s 10ms/step - loss: 1.4207 - accuracy: 0.4902 - val_loss: 1.1593 - val_accuracy: 0.5872\n",
      "Epoch 2/20\n",
      "1250/1250 [==============================] - 12s 9ms/step - loss: 0.9803 - accuracy: 0.6519 - val_loss: 1.0142 - val_accuracy: 0.6386\n",
      "Epoch 3/20\n",
      "1250/1250 [==============================] - 12s 9ms/step - loss: 0.6700 - accuracy: 0.7648 - val_loss: 1.0569 - val_accuracy: 0.6359\n",
      "Epoch 4/20\n",
      "1250/1250 [==============================] - 12s 9ms/step - loss: 0.3376 - accuracy: 0.8843 - val_loss: 1.3352 - val_accuracy: 0.6334\n",
      "Epoch 5/20\n",
      "1250/1250 [==============================] - 12s 9ms/step - loss: 0.1455 - accuracy: 0.9511 - val_loss: 1.7762 - val_accuracy: 0.6339\n"
     ]
    },
    {
     "data": {
      "text/plain": [
       "<keras.callbacks.History at 0x7efbf05c9410>"
      ]
     },
     "execution_count": 8,
     "metadata": {},
     "output_type": "execute_result"
    }
   ],
   "source": [
    "es=EarlyStopping(patience=3)\n",
    "model = Sequential()\n",
    "model.add(Conv2D(32, (3, 3), activation='relu',padding='same', input_shape=(32,32,3)))\n",
    "model.add(Conv2D(32, (3, 3), activation='relu',padding='same')) #32 Filter je 3x3\n",
    "model.add(Conv2D(32, (3, 3), activation='relu',padding='same')) #32 Filter je 3x3\n",
    "model.add(Flatten()) \n",
    "model.add(Dense(256, activation='relu')) \n",
    "model.add(Dense(10, activation='softmax')) #wie auch letzte Woche brauchen wir 10 Neuronen da wir in 10 klassen sortieren\n",
    "model.compile(optimizer='adam', loss='sparse_categorical_crossentropy', metrics=['accuracy'])\n",
    "model.fit(x_train, y_train, batch_size=32, epochs=20, validation_split = 0.2, callbacks=[es])"
   ]
  },
  {
   "cell_type": "code",
   "execution_count": 10,
   "id": "315308e8-36dc-4805-aa0f-64e5eaacd9dd",
   "metadata": {},
   "outputs": [
    {
     "name": "stdout",
     "output_type": "stream",
     "text": [
      "Epoch 1/20\n",
      "1250/1250 [==============================] - 9s 6ms/step - loss: 1.3866 - accuracy: 0.5015 - val_loss: 1.1107 - val_accuracy: 0.6155\n",
      "Epoch 2/20\n",
      "1250/1250 [==============================] - 8s 6ms/step - loss: 0.9634 - accuracy: 0.6593 - val_loss: 0.9772 - val_accuracy: 0.6610\n",
      "Epoch 3/20\n",
      "1250/1250 [==============================] - 8s 6ms/step - loss: 0.7673 - accuracy: 0.7316 - val_loss: 0.9352 - val_accuracy: 0.6808\n",
      "Epoch 4/20\n",
      "1250/1250 [==============================] - 8s 6ms/step - loss: 0.5830 - accuracy: 0.7979 - val_loss: 0.9723 - val_accuracy: 0.6827\n",
      "Epoch 5/20\n",
      "1250/1250 [==============================] - 8s 6ms/step - loss: 0.3899 - accuracy: 0.8649 - val_loss: 1.1376 - val_accuracy: 0.6717\n",
      "Epoch 6/20\n",
      "1250/1250 [==============================] - 8s 6ms/step - loss: 0.2472 - accuracy: 0.9137 - val_loss: 1.3620 - val_accuracy: 0.6722\n"
     ]
    },
    {
     "data": {
      "text/plain": [
       "<keras.callbacks.History at 0x7efc04373dd0>"
      ]
     },
     "execution_count": 10,
     "metadata": {},
     "output_type": "execute_result"
    }
   ],
   "source": [
    "\n",
    "es=EarlyStopping(patience=3)\n",
    "model = Sequential()\n",
    "model.add(Conv2D(32, (3, 3), activation='relu',padding='same', input_shape=(32,32,3)))\n",
    "model.add(Conv2D(32, (3, 3), activation='relu',padding='same')) #32 Filter je 3x3\n",
    "model.add(Conv2D(32, (3, 3), activation='relu',padding='same')) #32 Filter je 3x3\n",
    "model.add(MaxPooling2D((2,2)))\n",
    "model.add(Flatten()) \n",
    "model.add(Dense(256, activation='relu')) \n",
    "model.add(Dense(10, activation='softmax')) #wie auch letzte Woche brauchen wir 10 Neuronen da wir in 10 klassen sortieren\n",
    "model.compile(optimizer='adam', loss='sparse_categorical_crossentropy', metrics=['accuracy'])\n",
    "model.fit(x_train, y_train, batch_size=32, epochs=20, validation_split = 0.2, callbacks=[es])"
   ]
  },
  {
   "cell_type": "code",
   "execution_count": 5,
   "id": "1d86e055-3f6e-4d9f-8ab0-202cd490e36a",
   "metadata": {},
   "outputs": [
    {
     "name": "stdout",
     "output_type": "stream",
     "text": [
      "Epoch 1/20\n",
      "1250/1250 [==============================] - 12s 8ms/step - loss: 1.4639 - accuracy: 0.4643 - val_loss: 1.0825 - val_accuracy: 0.6143\n",
      "Epoch 2/20\n",
      "1250/1250 [==============================] - 9s 7ms/step - loss: 0.9709 - accuracy: 0.6563 - val_loss: 0.8869 - val_accuracy: 0.6942\n",
      "Epoch 3/20\n",
      "1250/1250 [==============================] - 9s 7ms/step - loss: 0.7666 - accuracy: 0.7295 - val_loss: 0.7973 - val_accuracy: 0.7237\n",
      "Epoch 4/20\n",
      "1250/1250 [==============================] - 9s 7ms/step - loss: 0.6056 - accuracy: 0.7871 - val_loss: 0.7648 - val_accuracy: 0.7453\n",
      "Epoch 5/20\n",
      "1250/1250 [==============================] - 9s 7ms/step - loss: 0.4619 - accuracy: 0.8378 - val_loss: 0.8061 - val_accuracy: 0.7436\n",
      "Epoch 6/20\n",
      "1250/1250 [==============================] - 9s 7ms/step - loss: 0.3437 - accuracy: 0.8777 - val_loss: 0.9203 - val_accuracy: 0.7362\n",
      "Epoch 7/20\n",
      "1250/1250 [==============================] - 9s 7ms/step - loss: 0.2532 - accuracy: 0.9103 - val_loss: 1.0197 - val_accuracy: 0.7292\n"
     ]
    },
    {
     "data": {
      "text/plain": [
       "<keras.callbacks.History at 0x7fade13d1610>"
      ]
     },
     "execution_count": 5,
     "metadata": {},
     "output_type": "execute_result"
    }
   ],
   "source": [
    "es=EarlyStopping(patience=3)\n",
    "model = Sequential()\n",
    "model.add(Conv2D(32, (3, 3), activation='relu',padding='same', input_shape=(32,32,3)))\n",
    "model.add(Conv2D(32, (3, 3), activation='relu',padding='same')) #32 Filter je 3x3\n",
    "model.add(Conv2D(32, (3, 3), activation='relu',padding='same')) #32 Filter je 3x3\n",
    "model.add(MaxPooling2D((2,2)))\n",
    "\n",
    "model.add(Conv2D(64, (3, 3), activation='relu',padding='same')) #32 Filter je 3x3\n",
    "model.add(Conv2D(64, (3, 3), activation='relu',padding='same')) #32 Filter je 3x3\n",
    "model.add(MaxPooling2D((2,2)))\n",
    "model.add(Flatten()) \n",
    "model.add(Dense(256, activation='relu')) \n",
    "\n",
    "model.add(Dense(10, activation='softmax')) #wie auch letzte Woche brauchen wir 10 Neuronen da wir in 10 klassen sortieren\n",
    "model.compile(optimizer='adam', loss='sparse_categorical_crossentropy', metrics=['accuracy'])\n",
    "model.fit(x_train, y_train, batch_size=32, epochs=20, validation_split = 0.2, callbacks=[es])"
   ]
  },
  {
   "cell_type": "code",
   "execution_count": null,
   "id": "6a2b0efe-93f6-490c-9e96-a49f5d478d18",
   "metadata": {},
   "outputs": [],
   "source": []
  }
 ],
 "metadata": {
  "kernelspec": {
   "display_name": "Python 3 (ipykernel)",
   "language": "python",
   "name": "python3"
  },
  "language_info": {
   "codemirror_mode": {
    "name": "ipython",
    "version": 3
   },
   "file_extension": ".py",
   "mimetype": "text/x-python",
   "name": "python",
   "nbconvert_exporter": "python",
   "pygments_lexer": "ipython3",
   "version": "3.11.6"
  }
 },
 "nbformat": 4,
 "nbformat_minor": 5
}
