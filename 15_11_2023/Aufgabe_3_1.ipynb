{
  "nbformat": 4,
  "nbformat_minor": 0,
  "metadata": {
    "colab": {
      "provenance": []
    },
    "kernelspec": {
      "name": "python3",
      "display_name": "Python 3"
    },
    "language_info": {
      "name": "python"
    }
  },
  "cells": [
    {
      "cell_type": "markdown",
      "source": [
        "\n",
        "# Aufgabenblatt 3.1"
      ],
      "metadata": {
        "id": "Z8ik6VXwGThf"
      }
    },
    {
      "cell_type": "code",
      "source": [
        "import numpy as np\n",
        "import matplotlib as plt"
      ],
      "metadata": {
        "id": "0cZDM0JzHto6"
      },
      "execution_count": 5,
      "outputs": []
    },
    {
      "cell_type": "markdown",
      "source": [
        "Die beiden Dateien trainingsDaten.npz und testDaten.npz beinhalten jeweils einen dict. Jeder dieser dicts hat einen Schlüssel 'data' und einen Schlüssel 'labels'. Unter dem Schlüssel 'data' sind die Bild als 3D-Array (AnzahlBilder x Höhe x Breite) gespeichert. Entsprechend hat das 'data'-Array in trainingsDaten.npz die Form (60,32,32), da die 60 Trainingsbilder alle 32x32 Pixel haben. Unter dem Schlüssel 'labels' findet sich ein 1D-Array, das für jedes Bild das korrekte Label, also die korrekte Klassenzuordnung, vorhält."
      ],
      "metadata": {
        "id": "IxwOHdF7KPFy"
      }
    },
    {
      "cell_type": "code",
      "execution_count": 6,
      "metadata": {
        "id": "oVCKVSVtFAsp"
      },
      "outputs": [],
      "source": [
        "#Laden der Daten:\n",
        "dtrain = np.load('./trainingsDaten.npz')\n",
        "trImgs = dtrain['data']\n",
        "trLabels = dtrain['labels']\n",
        "\n",
        "#Laden der Testdaten\n",
        "dtest = np.load('./testDaten.npz')\n",
        "testImgs = dtest['data']\n",
        "testLabels = dtest['labels']\n",
        "\n",
        "#Erstes Bild und Label auslesen:\n",
        "img1 = trImgs[0,:,:]\n",
        "label1 = trLabels[0]\n",
        "\n",
        "#Label - Objektklasse\n",
        "#1     - Auto\n",
        "#4     - Hirsch\n",
        "#8     - Schiff"
      ]
    },
    {
      "cell_type": "code",
      "source": [
        "trImgMean = []\n",
        "testImgMean = []\n",
        "\n",
        "print('Mittelwerte der Trainingdaten:\\n')\n",
        "for i in range(len(trImgs)):\n",
        "  trImgMean.append(np.mean(trImgs[i,:,:]))\n",
        "  print(np.mean(trImgs[i,:,:]))\n",
        "\n",
        "print('\\nMittelwerte des Testdaten:\\n')\n",
        "for i in range(len(testImgs)):\n",
        "  testImgMean.append(np.mean(testImgs[i,:,:]))\n",
        "  print(np.mean(testImgs[i,:,:]))"
      ],
      "metadata": {
        "colab": {
          "base_uri": "https://localhost:8080/"
        },
        "id": "tnWgOWGcN2Af",
        "outputId": "d2913849-90a1-41a4-a7ab-29aa2c327e2d"
      },
      "execution_count": 7,
      "outputs": [
        {
          "output_type": "stream",
          "name": "stdout",
          "text": [
            "Mittelwerte der Trainingdaten:\n",
            "\n",
            "101.9443359375\n",
            "99.8896484375\n",
            "115.1728515625\n",
            "135.193359375\n",
            "128.005859375\n",
            "72.6953125\n",
            "168.7041015625\n",
            "88.23046875\n",
            "188.2041015625\n",
            "84.408203125\n",
            "78.90625\n",
            "123.1962890625\n",
            "108.44921875\n",
            "119.6572265625\n",
            "91.3984375\n",
            "125.03515625\n",
            "78.001953125\n",
            "79.44921875\n",
            "147.7607421875\n",
            "96.8388671875\n",
            "149.4375\n",
            "151.1259765625\n",
            "111.93359375\n",
            "153.734375\n",
            "147.59765625\n",
            "130.203125\n",
            "168.0048828125\n",
            "145.748046875\n",
            "184.81640625\n",
            "114.833984375\n",
            "88.947265625\n",
            "91.724609375\n",
            "135.373046875\n",
            "116.6162109375\n",
            "88.814453125\n",
            "166.9775390625\n",
            "140.421875\n",
            "151.74609375\n",
            "73.4931640625\n",
            "79.716796875\n",
            "72.521484375\n",
            "123.494140625\n",
            "115.48046875\n",
            "103.6796875\n",
            "123.3671875\n",
            "38.646484375\n",
            "97.365234375\n",
            "97.048828125\n",
            "105.87109375\n",
            "75.5458984375\n",
            "119.0361328125\n",
            "179.330078125\n",
            "113.4775390625\n",
            "136.2802734375\n",
            "150.62890625\n",
            "165.1845703125\n",
            "140.97265625\n",
            "122.39453125\n",
            "99.94140625\n",
            "176.84765625\n",
            "\n",
            "Mittelwerte des Testdaten:\n",
            "\n",
            "96.4140625\n",
            "109.166015625\n",
            "108.3037109375\n",
            "175.552734375\n",
            "91.6298828125\n",
            "107.4267578125\n",
            "33.353515625\n",
            "143.05078125\n",
            "109.7080078125\n",
            "125.0185546875\n",
            "173.9443359375\n",
            "106.7548828125\n",
            "100.9150390625\n",
            "124.9775390625\n",
            "140.21875\n",
            "99.98828125\n",
            "129.9150390625\n",
            "136.6171875\n",
            "173.8759765625\n",
            "113.06640625\n",
            "124.7607421875\n",
            "120.90625\n",
            "123.5546875\n",
            "99.6318359375\n",
            "132.3984375\n",
            "116.40625\n",
            "127.2900390625\n",
            "180.5244140625\n",
            "135.158203125\n",
            "113.552734375\n"
          ]
        }
      ]
    },
    {
      "cell_type": "code",
      "source": [
        "counter = 0\n",
        "for i in range(len(testImgs)):\n",
        "  l=[]\n",
        "  for j in range(len(trImgs)):\n",
        "    k = abs(trImgMean[j]- testImgMean[i])\n",
        "    l.append(k)\n",
        "\n",
        "  minval = np.min(l)\n",
        "  minvalindex = l.index(minval)\n",
        "  print('Bild ' + str(i) + ' ist ähnlich zu ' + str( trLabels[minvalindex]))\n",
        "\n",
        "  if (trLabels[minvalindex] == testLabels[i]):\n",
        "    counter = counter + 1\n",
        "\n",
        "print('\\nDie Trefferqoute leigt bei ' + str((counter/30)*100)+'%')"
      ],
      "metadata": {
        "id": "cirgneqXZQOb",
        "colab": {
          "base_uri": "https://localhost:8080/"
        },
        "outputId": "6259931b-7e08-454b-a414-d5945804d07d"
      },
      "execution_count": 9,
      "outputs": [
        {
          "output_type": "stream",
          "name": "stdout",
          "text": [
            "Bild 0 ist ähnlich zu 4\n",
            "Bild 1 ist ähnlich zu 4\n",
            "Bild 2 ist ähnlich zu 4\n",
            "Bild 3 ist ähnlich zu 8\n",
            "Bild 4 ist ähnlich zu 1\n",
            "Bild 5 ist ähnlich zu 4\n",
            "Bild 6 ist ähnlich zu 4\n",
            "Bild 7 ist ähnlich zu 8\n",
            "Bild 8 ist ähnlich zu 4\n",
            "Bild 9 ist ähnlich zu 4\n",
            "Bild 10 ist ähnlich zu 8\n",
            "Bild 11 ist ähnlich zu 4\n",
            "Bild 12 ist ähnlich zu 8\n",
            "Bild 13 ist ähnlich zu 4\n",
            "Bild 14 ist ähnlich zu 1\n",
            "Bild 15 ist ähnlich zu 8\n",
            "Bild 16 ist ähnlich zu 8\n",
            "Bild 17 ist ähnlich zu 8\n",
            "Bild 18 ist ähnlich zu 8\n",
            "Bild 19 ist ähnlich zu 8\n",
            "Bild 20 ist ähnlich zu 4\n",
            "Bild 21 ist ähnlich zu 4\n",
            "Bild 22 ist ähnlich zu 4\n",
            "Bild 23 ist ähnlich zu 1\n",
            "Bild 24 ist ähnlich zu 8\n",
            "Bild 25 ist ähnlich zu 1\n",
            "Bild 26 ist ähnlich zu 1\n",
            "Bild 27 ist ähnlich zu 8\n",
            "Bild 28 ist ähnlich zu 1\n",
            "Bild 29 ist ähnlich zu 8\n",
            "\n",
            "Die Trefferqoute leigt bei 20.0%\n"
          ]
        }
      ]
    }
  ]
}
